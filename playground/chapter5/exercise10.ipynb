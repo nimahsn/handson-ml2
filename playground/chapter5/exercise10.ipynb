{
 "cells": [
  {
   "cell_type": "markdown",
   "metadata": {
    "collapsed": true,
    "pycharm": {
     "name": "#%%\nmd\n"
    }
   },
   "source": [
    "10"
   ]
  },
  {
   "cell_type": "code",
   "execution_count": 2,
   "outputs": [],
   "source": [
    "from sklearn.datasets import fetch_california_housing"
   ],
   "metadata": {
    "collapsed": false,
    "pycharm": {
     "name": "#%%\n"
    }
   }
  },
  {
   "cell_type": "code",
   "execution_count": 3,
   "outputs": [],
   "source": [
    "housing = fetch_california_housing()"
   ],
   "metadata": {
    "collapsed": false,
    "pycharm": {
     "name": "#%%\n"
    }
   }
  },
  {
   "cell_type": "code",
   "execution_count": 4,
   "outputs": [],
   "source": [
    "X = housing['data']\n",
    "y = housing['target']"
   ],
   "metadata": {
    "collapsed": false,
    "pycharm": {
     "name": "#%%\n"
    }
   }
  },
  {
   "cell_type": "code",
   "execution_count": 5,
   "outputs": [],
   "source": [
    "from sklearn.model_selection import train_test_split"
   ],
   "metadata": {
    "collapsed": false,
    "pycharm": {
     "name": "#%%\n"
    }
   }
  },
  {
   "cell_type": "code",
   "execution_count": 6,
   "outputs": [],
   "source": [
    "X_train, X_test, y_train, y_test = train_test_split(X, y, test_size=0.2, random_state=42)"
   ],
   "metadata": {
    "collapsed": false,
    "pycharm": {
     "name": "#%%\n"
    }
   }
  },
  {
   "cell_type": "code",
   "execution_count": 7,
   "outputs": [],
   "source": [
    "import pandas as pd\n"
   ],
   "metadata": {
    "collapsed": false,
    "pycharm": {
     "name": "#%%\n"
    }
   }
  },
  {
   "cell_type": "code",
   "execution_count": 8,
   "outputs": [
    {
     "data": {
      "text/plain": "   MedInc  HouseAge  AveRooms  AveBedrms  Population  AveOccup  Latitude  \\\n0  3.2596      33.0  5.017657   1.006421      2300.0  3.691814     32.71   \n1  3.8125      49.0  4.473545   1.041005      1314.0  1.738095     33.77   \n2  4.1563       4.0  5.645833   0.985119       915.0  2.723214     34.66   \n3  1.9425      36.0  4.002817   1.033803      1418.0  3.994366     32.69   \n4  3.5542      43.0  6.268421   1.134211       874.0  2.300000     36.78   \n\n   Longitude  \n0    -117.03  \n1    -118.16  \n2    -120.48  \n3    -117.11  \n4    -119.80  ",
      "text/html": "<div>\n<style scoped>\n    .dataframe tbody tr th:only-of-type {\n        vertical-align: middle;\n    }\n\n    .dataframe tbody tr th {\n        vertical-align: top;\n    }\n\n    .dataframe thead th {\n        text-align: right;\n    }\n</style>\n<table border=\"1\" class=\"dataframe\">\n  <thead>\n    <tr style=\"text-align: right;\">\n      <th></th>\n      <th>MedInc</th>\n      <th>HouseAge</th>\n      <th>AveRooms</th>\n      <th>AveBedrms</th>\n      <th>Population</th>\n      <th>AveOccup</th>\n      <th>Latitude</th>\n      <th>Longitude</th>\n    </tr>\n  </thead>\n  <tbody>\n    <tr>\n      <th>0</th>\n      <td>3.2596</td>\n      <td>33.0</td>\n      <td>5.017657</td>\n      <td>1.006421</td>\n      <td>2300.0</td>\n      <td>3.691814</td>\n      <td>32.71</td>\n      <td>-117.03</td>\n    </tr>\n    <tr>\n      <th>1</th>\n      <td>3.8125</td>\n      <td>49.0</td>\n      <td>4.473545</td>\n      <td>1.041005</td>\n      <td>1314.0</td>\n      <td>1.738095</td>\n      <td>33.77</td>\n      <td>-118.16</td>\n    </tr>\n    <tr>\n      <th>2</th>\n      <td>4.1563</td>\n      <td>4.0</td>\n      <td>5.645833</td>\n      <td>0.985119</td>\n      <td>915.0</td>\n      <td>2.723214</td>\n      <td>34.66</td>\n      <td>-120.48</td>\n    </tr>\n    <tr>\n      <th>3</th>\n      <td>1.9425</td>\n      <td>36.0</td>\n      <td>4.002817</td>\n      <td>1.033803</td>\n      <td>1418.0</td>\n      <td>3.994366</td>\n      <td>32.69</td>\n      <td>-117.11</td>\n    </tr>\n    <tr>\n      <th>4</th>\n      <td>3.5542</td>\n      <td>43.0</td>\n      <td>6.268421</td>\n      <td>1.134211</td>\n      <td>874.0</td>\n      <td>2.300000</td>\n      <td>36.78</td>\n      <td>-119.80</td>\n    </tr>\n  </tbody>\n</table>\n</div>"
     },
     "execution_count": 8,
     "metadata": {},
     "output_type": "execute_result"
    }
   ],
   "source": [
    "X_train_df = pd.DataFrame(data=X_train, columns=housing['feature_names'])\n",
    "X_train_df.head()"
   ],
   "metadata": {
    "collapsed": false,
    "pycharm": {
     "name": "#%%\n"
    }
   }
  },
  {
   "cell_type": "code",
   "execution_count": 9,
   "outputs": [
    {
     "data": {
      "text/plain": "             MedInc      HouseAge      AveRooms     AveBedrms    Population  \\\ncount  16512.000000  16512.000000  16512.000000  16512.000000  16512.000000   \nmean       3.880754     28.608285      5.435235      1.096685   1426.453004   \nstd        1.904294     12.602499      2.387375      0.433215   1137.056380   \nmin        0.499900      1.000000      0.888889      0.333333      3.000000   \n25%        2.566700     18.000000      4.452055      1.006508    789.000000   \n50%        3.545800     29.000000      5.235874      1.049286   1167.000000   \n75%        4.773175     37.000000      6.061037      1.100348   1726.000000   \nmax       15.000100     52.000000    141.909091     25.636364  35682.000000   \n\n           AveOccup      Latitude     Longitude  \ncount  16512.000000  16512.000000  16512.000000  \nmean       3.096961     35.643149   -119.582290  \nstd       11.578744      2.136665      2.005654  \nmin        0.692308     32.550000   -124.350000  \n25%        2.428799     33.930000   -121.810000  \n50%        2.817240     34.260000   -118.510000  \n75%        3.280000     37.720000   -118.010000  \nmax     1243.333333     41.950000   -114.310000  ",
      "text/html": "<div>\n<style scoped>\n    .dataframe tbody tr th:only-of-type {\n        vertical-align: middle;\n    }\n\n    .dataframe tbody tr th {\n        vertical-align: top;\n    }\n\n    .dataframe thead th {\n        text-align: right;\n    }\n</style>\n<table border=\"1\" class=\"dataframe\">\n  <thead>\n    <tr style=\"text-align: right;\">\n      <th></th>\n      <th>MedInc</th>\n      <th>HouseAge</th>\n      <th>AveRooms</th>\n      <th>AveBedrms</th>\n      <th>Population</th>\n      <th>AveOccup</th>\n      <th>Latitude</th>\n      <th>Longitude</th>\n    </tr>\n  </thead>\n  <tbody>\n    <tr>\n      <th>count</th>\n      <td>16512.000000</td>\n      <td>16512.000000</td>\n      <td>16512.000000</td>\n      <td>16512.000000</td>\n      <td>16512.000000</td>\n      <td>16512.000000</td>\n      <td>16512.000000</td>\n      <td>16512.000000</td>\n    </tr>\n    <tr>\n      <th>mean</th>\n      <td>3.880754</td>\n      <td>28.608285</td>\n      <td>5.435235</td>\n      <td>1.096685</td>\n      <td>1426.453004</td>\n      <td>3.096961</td>\n      <td>35.643149</td>\n      <td>-119.582290</td>\n    </tr>\n    <tr>\n      <th>std</th>\n      <td>1.904294</td>\n      <td>12.602499</td>\n      <td>2.387375</td>\n      <td>0.433215</td>\n      <td>1137.056380</td>\n      <td>11.578744</td>\n      <td>2.136665</td>\n      <td>2.005654</td>\n    </tr>\n    <tr>\n      <th>min</th>\n      <td>0.499900</td>\n      <td>1.000000</td>\n      <td>0.888889</td>\n      <td>0.333333</td>\n      <td>3.000000</td>\n      <td>0.692308</td>\n      <td>32.550000</td>\n      <td>-124.350000</td>\n    </tr>\n    <tr>\n      <th>25%</th>\n      <td>2.566700</td>\n      <td>18.000000</td>\n      <td>4.452055</td>\n      <td>1.006508</td>\n      <td>789.000000</td>\n      <td>2.428799</td>\n      <td>33.930000</td>\n      <td>-121.810000</td>\n    </tr>\n    <tr>\n      <th>50%</th>\n      <td>3.545800</td>\n      <td>29.000000</td>\n      <td>5.235874</td>\n      <td>1.049286</td>\n      <td>1167.000000</td>\n      <td>2.817240</td>\n      <td>34.260000</td>\n      <td>-118.510000</td>\n    </tr>\n    <tr>\n      <th>75%</th>\n      <td>4.773175</td>\n      <td>37.000000</td>\n      <td>6.061037</td>\n      <td>1.100348</td>\n      <td>1726.000000</td>\n      <td>3.280000</td>\n      <td>37.720000</td>\n      <td>-118.010000</td>\n    </tr>\n    <tr>\n      <th>max</th>\n      <td>15.000100</td>\n      <td>52.000000</td>\n      <td>141.909091</td>\n      <td>25.636364</td>\n      <td>35682.000000</td>\n      <td>1243.333333</td>\n      <td>41.950000</td>\n      <td>-114.310000</td>\n    </tr>\n  </tbody>\n</table>\n</div>"
     },
     "execution_count": 9,
     "metadata": {},
     "output_type": "execute_result"
    }
   ],
   "source": [
    "X_train_df.describe()\n"
   ],
   "metadata": {
    "collapsed": false,
    "pycharm": {
     "name": "#%%\n"
    }
   }
  },
  {
   "cell_type": "code",
   "execution_count": 10,
   "outputs": [],
   "source": [
    "from sklearn.preprocessing import StandardScaler\n"
   ],
   "metadata": {
    "collapsed": false,
    "pycharm": {
     "name": "#%%\n"
    }
   }
  },
  {
   "cell_type": "code",
   "execution_count": 11,
   "outputs": [],
   "source": [
    "std_scalar = StandardScaler()\n",
    "X_train_scaled_df = std_scalar.fit_transform(X_train_df)"
   ],
   "metadata": {
    "collapsed": false,
    "pycharm": {
     "name": "#%%\n"
    }
   }
  },
  {
   "cell_type": "markdown",
   "source": [
    "- ### linear svr"
   ],
   "metadata": {
    "collapsed": false,
    "pycharm": {
     "name": "#%%\nmd\n"
    }
   }
  },
  {
   "cell_type": "code",
   "execution_count": 12,
   "outputs": [],
   "source": [
    "from sklearn.svm import LinearSVR"
   ],
   "metadata": {
    "collapsed": false,
    "pycharm": {
     "name": "#%%\n"
    }
   }
  },
  {
   "cell_type": "code",
   "execution_count": 13,
   "outputs": [
    {
     "data": {
      "text/plain": "LinearSVR(C=10, dual=True, epsilon=0.0, fit_intercept=True,\n          intercept_scaling=1.0, loss='epsilon_insensitive', max_iter=100000,\n          random_state=None, tol=0.0001, verbose=0)"
     },
     "execution_count": 13,
     "metadata": {},
     "output_type": "execute_result"
    }
   ],
   "source": [
    "lin_svr = LinearSVR(max_iter=100000, C = 10)\n",
    "lin_svr.fit(X=X_train_scaled_df, y=y_train)"
   ],
   "metadata": {
    "collapsed": false,
    "pycharm": {
     "name": "#%%\n"
    }
   }
  },
  {
   "cell_type": "code",
   "execution_count": 14,
   "outputs": [],
   "source": [
    "from sklearn.metrics import mean_squared_error\n",
    "import numpy as np"
   ],
   "metadata": {
    "collapsed": false,
    "pycharm": {
     "name": "#%%\n"
    }
   }
  },
  {
   "cell_type": "code",
   "execution_count": 15,
   "outputs": [
    {
     "data": {
      "text/plain": "0.9802098446872709"
     },
     "execution_count": 15,
     "metadata": {},
     "output_type": "execute_result"
    }
   ],
   "source": [
    "y_train_pred = lin_svr.predict(X_train_scaled_df)\n",
    "np.sqrt(mean_squared_error(y_train, y_train_pred))"
   ],
   "metadata": {
    "collapsed": false,
    "pycharm": {
     "name": "#%%\n"
    }
   }
  },
  {
   "cell_type": "code",
   "execution_count": 16,
   "outputs": [],
   "source": [
    "from sklearn.model_selection import cross_val_score"
   ],
   "metadata": {
    "collapsed": false,
    "pycharm": {
     "name": "#%%\n"
    }
   }
  },
  {
   "cell_type": "code",
   "execution_count": 17,
   "outputs": [
    {
     "name": "stdout",
     "output_type": "stream",
     "text": [
      "[0.74524508 0.72419182 3.57506498 0.84968896]\n"
     ]
    }
   ],
   "source": [
    "linear_svr_scores = cross_val_score(LinearSVR(C=5, max_iter=50000), X=X_train_scaled_df, y=y_train, cv=4, n_jobs=4, scoring=\"neg_mean_squared_error\")\n",
    "print(np.sqrt(-linear_svr_scores))"
   ],
   "metadata": {
    "collapsed": false,
    "pycharm": {
     "name": "#%%\n"
    }
   }
  },
  {
   "cell_type": "markdown",
   "source": [
    "- ### poly svr"
   ],
   "metadata": {
    "collapsed": false,
    "pycharm": {
     "name": "#%%\nmd\n"
    }
   }
  },
  {
   "cell_type": "code",
   "execution_count": 18,
   "outputs": [],
   "source": [
    "from sklearn.svm import SVR"
   ],
   "metadata": {
    "collapsed": false,
    "pycharm": {
     "name": "#%%\n"
    }
   }
  },
  {
   "cell_type": "code",
   "execution_count": 19,
   "outputs": [
    {
     "name": "stderr",
     "output_type": "stream",
     "text": [
      "/home/nimahsn/anaconda3/envs/tf2/lib/python3.7/site-packages/sklearn/svm/base.py:241: ConvergenceWarning: Solver terminated early (max_iter=100000).  Consider pre-processing your data with StandardScaler or MinMaxScaler.\n",
      "  % self.max_iter, ConvergenceWarning)\n"
     ]
    },
    {
     "data": {
      "text/plain": "SVR(C=1, cache_size=200, coef0=0.0, degree=3, epsilon=0.1,\n    gamma='auto_deprecated', kernel='poly', max_iter=100000, shrinking=True,\n    tol=0.001, verbose=False)"
     },
     "execution_count": 19,
     "metadata": {},
     "output_type": "execute_result"
    }
   ],
   "source": [
    "poly_svr = SVR(kernel=\"poly\", degree=3, C = 1, max_iter=100000)\n",
    "poly_svr.fit(X_train_scaled_df, y_train)"
   ],
   "metadata": {
    "collapsed": false,
    "pycharm": {
     "name": "#%%\n"
    }
   }
  },
  {
   "cell_type": "code",
   "execution_count": 20,
   "outputs": [
    {
     "data": {
      "text/plain": "2.7734981684779294"
     },
     "execution_count": 20,
     "metadata": {},
     "output_type": "execute_result"
    }
   ],
   "source": [
    "y_train_pred = poly_svr.predict(X_train_scaled_df)\n",
    "mean_squared_error(y_train, y_train_pred)"
   ],
   "metadata": {
    "collapsed": false,
    "pycharm": {
     "name": "#%%\n"
    }
   }
  },
  {
   "cell_type": "markdown",
   "source": [
    "SUCKS!"
   ],
   "metadata": {
    "collapsed": false,
    "pycharm": {
     "name": "#%%\nmd\n"
    }
   }
  },
  {
   "cell_type": "markdown",
   "source": [
    "- ### rbf svr"
   ],
   "metadata": {
    "collapsed": false,
    "pycharm": {
     "name": "#%%\nmd\n"
    }
   }
  },
  {
   "cell_type": "code",
   "execution_count": 21,
   "outputs": [
    {
     "data": {
      "text/plain": "SVR(C=5, cache_size=200, coef0=0.0, degree=3, epsilon=0.1,\n    gamma='auto_deprecated', kernel='rbf', max_iter=-1, shrinking=True,\n    tol=0.001, verbose=False)"
     },
     "execution_count": 21,
     "metadata": {},
     "output_type": "execute_result"
    }
   ],
   "source": [
    "# y_train\n",
    "rbf_svr = SVR(C=5)\n",
    "rbf_svr.fit(X_train_scaled_df, y_train)"
   ],
   "metadata": {
    "collapsed": false,
    "pycharm": {
     "name": "#%%\n"
    }
   }
  },
  {
   "cell_type": "code",
   "execution_count": 22,
   "outputs": [
    {
     "data": {
      "text/plain": "0.5528948745649199"
     },
     "execution_count": 22,
     "metadata": {},
     "output_type": "execute_result"
    }
   ],
   "source": [
    "y_train_pred = rbf_svr.predict(X_train_scaled_df)\n",
    "np.sqrt(mean_squared_error(y_train, y_train_pred))\n"
   ],
   "metadata": {
    "collapsed": false,
    "pycharm": {
     "name": "#%%\n"
    }
   }
  },
  {
   "cell_type": "code",
   "execution_count": 23,
   "outputs": [
    {
     "name": "stdout",
     "output_type": "stream",
     "text": [
      "Fitting 3 folds for each of 10 candidates, totalling 30 fits\n"
     ]
    },
    {
     "name": "stderr",
     "output_type": "stream",
     "text": [
      "[Parallel(n_jobs=6)]: Using backend LokyBackend with 6 concurrent workers.\n",
      "[Parallel(n_jobs=6)]: Done  30 out of  30 | elapsed:  1.5min finished\n"
     ]
    },
    {
     "data": {
      "text/plain": "RandomizedSearchCV(cv=3, error_score='raise-deprecating',\n                   estimator=SVR(C=1.0, cache_size=200, coef0=0.0, degree=3,\n                                 epsilon=0.1, gamma='auto_deprecated',\n                                 kernel='rbf', max_iter=-1, shrinking=True,\n                                 tol=0.001, verbose=False),\n                   iid='warn', n_iter=10, n_jobs=6,\n                   param_distributions={'C': <scipy.stats._distn_infrastructure.rv_frozen object at 0x7fadecae16d0>,\n                                        'gamma': <scipy.stats._distn_infrastructure.rv_frozen object at 0x7fad97e9a290>},\n                   pre_dispatch='2*n_jobs', random_state=42, refit=True,\n                   return_train_score=False, scoring=None, verbose=2)"
     },
     "execution_count": 23,
     "metadata": {},
     "output_type": "execute_result"
    }
   ],
   "source": [
    "from sklearn.svm import SVR\n",
    "from sklearn.model_selection import RandomizedSearchCV\n",
    "from scipy.stats import reciprocal, uniform\n",
    "\n",
    "param_distributions = {\"gamma\": reciprocal(0.001, 0.1), \"C\": uniform(1, 10)}\n",
    "rnd_search_cv = RandomizedSearchCV(SVR(), param_distributions, n_iter=10, verbose=2, cv=3, random_state=42, n_jobs=6)\n",
    "rnd_search_cv.fit(X_train_scaled_df, y_train)\n"
   ],
   "metadata": {
    "collapsed": false,
    "pycharm": {
     "name": "#%%\n"
    }
   }
  },
  {
   "cell_type": "code",
   "execution_count": 25,
   "outputs": [
    {
     "data": {
      "text/plain": "0.3280453999995985"
     },
     "execution_count": 25,
     "metadata": {},
     "output_type": "execute_result"
    }
   ],
   "source": [
    "preds = rnd_search_cv.best_estimator_.predict(X_train_scaled_df)\n",
    "np.mean(mean_squared_error(y_train, preds))"
   ],
   "metadata": {
    "collapsed": false,
    "pycharm": {
     "name": "#%%\n"
    }
   }
  },
  {
   "cell_type": "code",
   "execution_count": 26,
   "outputs": [
    {
     "data": {
      "text/plain": "SVR(C=4.745401188473625, cache_size=200, coef0=0.0, degree=3, epsilon=0.1,\n    gamma=0.07969454818643928, kernel='rbf', max_iter=-1, shrinking=True,\n    tol=0.001, verbose=False)"
     },
     "execution_count": 26,
     "metadata": {},
     "output_type": "execute_result"
    }
   ],
   "source": [
    "rnd_search_cv.best_estimator_.fit(X_train_scaled_df, y_train)"
   ],
   "metadata": {
    "collapsed": false,
    "pycharm": {
     "name": "#%%\n"
    }
   }
  },
  {
   "cell_type": "code",
   "execution_count": 29,
   "outputs": [
    {
     "data": {
      "text/plain": "0.5727524770785356"
     },
     "execution_count": 29,
     "metadata": {},
     "output_type": "execute_result"
    }
   ],
   "source": [
    "preds = rnd_search_cv.best_estimator_.predict(X_train_scaled_df)\n",
    "np.sqrt(mean_squared_error(y_train, preds))"
   ],
   "metadata": {
    "collapsed": false,
    "pycharm": {
     "name": "#%%\n"
    }
   }
  },
  {
   "cell_type": "code",
   "execution_count": null,
   "outputs": [],
   "source": [
    "\n"
   ],
   "metadata": {
    "collapsed": false,
    "pycharm": {
     "name": "#%%\n"
    }
   }
  }
 ],
 "metadata": {
  "kernelspec": {
   "display_name": "Python 3",
   "language": "python",
   "name": "python3"
  },
  "language_info": {
   "codemirror_mode": {
    "name": "ipython",
    "version": 2
   },
   "file_extension": ".py",
   "mimetype": "text/x-python",
   "name": "python",
   "nbconvert_exporter": "python",
   "pygments_lexer": "ipython2",
   "version": "2.7.6"
  }
 },
 "nbformat": 4,
 "nbformat_minor": 0
}