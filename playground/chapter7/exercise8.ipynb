{
 "cells": [
  {
   "cell_type": "markdown",
   "metadata": {
    "collapsed": true,
    "pycharm": {
     "name": "#%%\nmd\n"
    }
   },
   "source": [
    "# <font color=yellow>Chapter 7 - Exercises</font>"
   ]
  },
  {
   "cell_type": "markdown",
   "source": [
    "load data"
   ],
   "metadata": {
    "collapsed": false,
    "pycharm": {
     "name": "#%%\nmd\n"
    }
   }
  },
  {
   "cell_type": "code",
   "execution_count": 2,
   "outputs": [],
   "source": [
    "from sklearn.datasets import fetch_openml\n",
    "def load_data():\n",
    "    mnist = fetch_openml('mnist_784', version=1)\n",
    "    return mnist['data'], mnist['target']"
   ],
   "metadata": {
    "collapsed": false,
    "pycharm": {
     "name": "#%%\n"
    }
   }
  },
  {
   "cell_type": "markdown",
   "source": [
    "## 8."
   ],
   "metadata": {
    "collapsed": false,
    "pycharm": {
     "name": "#%%\nmd\n"
    }
   }
  },
  {
   "cell_type": "code",
   "execution_count": 3,
   "outputs": [],
   "source": [
    "X, y = load_data()\n",
    "X_train = X[:50000]\n",
    "y_train = y[:50000]\n",
    "X_test = X[60000:]\n",
    "y_test = y[60000:]\n",
    "X_valid = X[50000:60000]\n",
    "y_valid = y[50000:60000]"
   ],
   "metadata": {
    "collapsed": false,
    "pycharm": {
     "name": "#%%\n"
    }
   }
  },
  {
   "cell_type": "markdown",
   "source": [
    "### Base Models"
   ],
   "metadata": {
    "collapsed": false,
    "pycharm": {
     "name": "#%%\nmd\n"
    }
   }
  },
  {
   "cell_type": "markdown",
   "source": [
    "- SVC"
   ],
   "metadata": {
    "collapsed": false,
    "pycharm": {
     "name": "#%%\nmd\n"
    }
   }
  },
  {
   "cell_type": "code",
   "execution_count": 4,
   "outputs": [],
   "source": [
    "from sklearn.svm import SVC\n",
    "from sklearn.model_selection import GridSearchCV"
   ],
   "metadata": {
    "collapsed": false,
    "pycharm": {
     "name": "#%%\n"
    }
   }
  },
  {
   "cell_type": "code",
   "execution_count": 7,
   "outputs": [],
   "source": [
    "X_train_svm_grid=X_train[:10000]\n",
    "y_train_svm_grid = y_train[:10000]"
   ],
   "metadata": {
    "collapsed": false,
    "pycharm": {
     "name": "#%%\n"
    }
   }
  },
  {
   "cell_type": "code",
   "execution_count": 8,
   "outputs": [],
   "source": [
    "from sklearn.preprocessing import StandardScaler\n",
    "scaler = StandardScaler()"
   ],
   "metadata": {
    "collapsed": false,
    "pycharm": {
     "name": "#%%\n"
    }
   }
  },
  {
   "cell_type": "code",
   "execution_count": 9,
   "outputs": [],
   "source": [
    "X_train_svm_grid_std = scaler.fit_transform(X_train_svm_grid)"
   ],
   "metadata": {
    "collapsed": false,
    "pycharm": {
     "name": "#%%\n"
    }
   }
  },
  {
   "cell_type": "code",
   "execution_count": 10,
   "outputs": [
    {
     "name": "stdout",
     "output_type": "stream",
     "text": [
      "Fitting 5 folds for each of 5 candidates, totalling 25 fits\n",
      "[LibSVM]"
     ]
    },
    {
     "name": "stderr",
     "output_type": "stream",
     "text": [
      "[Parallel(n_jobs=6)]: Using backend LokyBackend with 6 concurrent workers.\n",
      "[Parallel(n_jobs=6)]: Done  25 out of  25 | elapsed: 25.8min finished\n"
     ]
    },
    {
     "data": {
      "text/plain": "GridSearchCV(cv=5, error_score='raise-deprecating',\n             estimator=SVC(C=1.0, cache_size=200, class_weight=None, coef0=0.0,\n                           decision_function_shape='ovr', degree=3,\n                           gamma='scale', kernel='rbf', max_iter=-1,\n                           probability=True, random_state=42, shrinking=True,\n                           tol=0.001, verbose=True),\n             iid='warn', n_jobs=6,\n             param_grid={'C': [0.5, 1, 3, 5, 8], 'kernel': ['rbf']},\n             pre_dispatch='2*n_jobs', refit=True, return_train_score=False,\n             scoring=None, verbose=2)"
     },
     "execution_count": 10,
     "metadata": {},
     "output_type": "execute_result"
    }
   ],
   "source": [
    "svc_param_grid = {\"kernel\":[\"rbf\"], \"C\":[0.5, 1, 3, 5, 8]}\n",
    "search_svc = GridSearchCV(estimator=SVC(probability=True, verbose=True, random_state=42, gamma=\"scale\"), n_jobs=6, cv=5, verbose=2, param_grid=svc_param_grid)\n",
    "search_svc.fit(X_train_svm_grid_std, y_train_svm_grid)"
   ],
   "metadata": {
    "collapsed": false,
    "pycharm": {
     "name": "#%%\n"
    }
   }
  },
  {
   "cell_type": "code",
   "execution_count": 12,
   "outputs": [
    {
     "data": {
      "text/plain": "0.9988"
     },
     "execution_count": 12,
     "metadata": {},
     "output_type": "execute_result"
    }
   ],
   "source": [
    "from sklearn.metrics import accuracy_score\n",
    "accuracy_score(search_svc.best_estimator_.predict(X_train_svm_grid_std), y_train_svm_grid)"
   ],
   "metadata": {
    "collapsed": false,
    "pycharm": {
     "name": "#%%\n"
    }
   }
  },
  {
   "cell_type": "code",
   "execution_count": 5,
   "outputs": [],
   "source": [
    "import joblib"
   ],
   "metadata": {
    "collapsed": false,
    "pycharm": {
     "name": "#%%\n"
    }
   }
  },
  {
   "cell_type": "code",
   "execution_count": 15,
   "outputs": [
    {
     "data": {
      "text/plain": "['svc_search_best.xz']"
     },
     "execution_count": 15,
     "metadata": {},
     "output_type": "execute_result"
    }
   ],
   "source": [
    "joblib.dump(search_svc.best_estimator_, \"svc_search_best.xz\")"
   ],
   "metadata": {
    "collapsed": false,
    "pycharm": {
     "name": "#%%\n"
    }
   }
  },
  {
   "cell_type": "code",
   "execution_count": 6,
   "outputs": [],
   "source": [
    "best_svc = joblib.load(\"svc_search_best.xz\")"
   ],
   "metadata": {
    "collapsed": false,
    "pycharm": {
     "name": "#%%\n"
    }
   }
  },
  {
   "cell_type": "code",
   "execution_count": 7,
   "outputs": [],
   "source": [
    "from sklearn.preprocessing import StandardScaler\n",
    "scaler = StandardScaler()\n",
    "X_train_std = scaler.fit_transform(X_train)"
   ],
   "metadata": {
    "collapsed": false,
    "pycharm": {
     "name": "#%%\n"
    }
   }
  },
  {
   "cell_type": "code",
   "execution_count": 10,
   "outputs": [
    {
     "name": "stdout",
     "output_type": "stream",
     "text": [
      "[LibSVM]"
     ]
    },
    {
     "data": {
      "text/plain": "SVC(C=5, cache_size=200, class_weight=None, coef0=0.0,\n    decision_function_shape='ovr', degree=3, gamma='scale', kernel='rbf',\n    max_iter=-1, probability=True, random_state=42, shrinking=True, tol=0.001,\n    verbose=True)"
     },
     "execution_count": 10,
     "metadata": {},
     "output_type": "execute_result"
    }
   ],
   "source": [
    "best_svc.fit(X_train_std, y_train)"
   ],
   "metadata": {
    "collapsed": false,
    "pycharm": {
     "name": "#%%\n"
    }
   }
  },
  {
   "cell_type": "code",
   "execution_count": 37,
   "outputs": [],
   "source": [
    "X_valid_std = scaler.transform(X_valid)"
   ],
   "metadata": {
    "collapsed": false,
    "pycharm": {
     "name": "#%%\n"
    }
   }
  },
  {
   "cell_type": "code",
   "execution_count": 8,
   "outputs": [
    {
     "ename": "NameError",
     "evalue": "name 'X_valid_std' is not defined",
     "output_type": "error",
     "traceback": [
      "\u001B[0;31m---------------------------------------------------------------------------\u001B[0m",
      "\u001B[0;31mNameError\u001B[0m                                 Traceback (most recent call last)",
      "\u001B[0;32m<ipython-input-8-395162cfa6f5>\u001B[0m in \u001B[0;36m<module>\u001B[0;34m\u001B[0m\n\u001B[1;32m      1\u001B[0m \u001B[0;32mfrom\u001B[0m \u001B[0mmatplotlib\u001B[0m\u001B[0;34m.\u001B[0m\u001B[0mpyplot\u001B[0m \u001B[0;32mimport\u001B[0m \u001B[0mimshow\u001B[0m\u001B[0;34m\u001B[0m\u001B[0;34m\u001B[0m\u001B[0m\n\u001B[0;32m----> 2\u001B[0;31m \u001B[0mimshow\u001B[0m\u001B[0;34m(\u001B[0m\u001B[0mX_valid_std\u001B[0m\u001B[0;34m[\u001B[0m\u001B[0;36m1\u001B[0m\u001B[0;34m]\u001B[0m\u001B[0;34m.\u001B[0m\u001B[0mreshape\u001B[0m\u001B[0;34m(\u001B[0m\u001B[0;36m28\u001B[0m\u001B[0;34m,\u001B[0m\u001B[0;36m28\u001B[0m\u001B[0;34m)\u001B[0m\u001B[0;34m,\u001B[0m \u001B[0mcmap\u001B[0m\u001B[0;34m=\u001B[0m\u001B[0;34m'gray_r'\u001B[0m\u001B[0;34m)\u001B[0m\u001B[0;34m\u001B[0m\u001B[0;34m\u001B[0m\u001B[0m\n\u001B[0m\u001B[1;32m      3\u001B[0m \u001B[0;34m\u001B[0m\u001B[0m\n",
      "\u001B[0;31mNameError\u001B[0m: name 'X_valid_std' is not defined"
     ]
    }
   ],
   "source": [
    "from matplotlib.pyplot import imshow\n",
    "imshow(X_valid_std[1].reshape(28,28), cmap='gray_r')"
   ],
   "metadata": {
    "collapsed": false,
    "pycharm": {
     "name": "#%%\n"
    }
   }
  },
  {
   "cell_type": "code",
   "execution_count": 39,
   "outputs": [
    {
     "data": {
      "text/plain": "0.9746"
     },
     "execution_count": 39,
     "metadata": {},
     "output_type": "execute_result"
    }
   ],
   "source": [
    "from sklearn.metrics import accuracy_score\n",
    "accuracy_score(y_valid, best_svc.predict(X_valid_std))"
   ],
   "metadata": {
    "collapsed": false,
    "pycharm": {
     "name": "#%%\n"
    }
   }
  },
  {
   "cell_type": "markdown",
   "source": [
    "- RandomForest"
   ],
   "metadata": {
    "collapsed": false,
    "pycharm": {
     "name": "#%%\nmd\n"
    }
   }
  },
  {
   "cell_type": "code",
   "execution_count": 9,
   "outputs": [],
   "source": [
    "from sklearn.ensemble import RandomForestClassifier"
   ],
   "metadata": {
    "collapsed": false,
    "pycharm": {
     "name": "#%%\n"
    }
   }
  },
  {
   "cell_type": "code",
   "execution_count": 26,
   "outputs": [
    {
     "name": "stdout",
     "output_type": "stream",
     "text": [
      "Fitting 3 folds for each of 8 candidates, totalling 24 fits\n",
      "[CV] max_depth=20, min_samples_leaf=7, n_estimators=800 ..............\n",
      "[CV]  max_depth=20, min_samples_leaf=7, n_estimators=800, total= 1.0min\n",
      "[CV] max_depth=20, min_samples_leaf=7, n_estimators=800 ..............\n",
      "[CV]  max_depth=20, min_samples_leaf=7, n_estimators=800, total= 1.0min\n",
      "[CV] max_depth=20, min_samples_leaf=7, n_estimators=800 ..............\n",
      "[CV]  max_depth=20, min_samples_leaf=7, n_estimators=800, total= 1.0min\n",
      "[CV] max_depth=20, min_samples_leaf=7, n_estimators=900 ..............\n",
      "[CV]  max_depth=20, min_samples_leaf=7, n_estimators=900, total= 1.2min\n",
      "[CV] max_depth=20, min_samples_leaf=7, n_estimators=900 ..............\n",
      "[CV]  max_depth=20, min_samples_leaf=7, n_estimators=900, total= 1.2min\n",
      "[CV] max_depth=20, min_samples_leaf=7, n_estimators=900 ..............\n",
      "[CV]  max_depth=20, min_samples_leaf=7, n_estimators=900, total= 1.1min\n",
      "[CV] max_depth=20, min_samples_leaf=10, n_estimators=800 .............\n",
      "[CV]  max_depth=20, min_samples_leaf=10, n_estimators=800, total=  59.2s\n",
      "[CV] max_depth=20, min_samples_leaf=10, n_estimators=800 .............\n",
      "[CV]  max_depth=20, min_samples_leaf=10, n_estimators=800, total=  59.5s\n",
      "[CV] max_depth=20, min_samples_leaf=10, n_estimators=800 .............\n",
      "[CV]  max_depth=20, min_samples_leaf=10, n_estimators=800, total=  59.1s\n",
      "[CV] max_depth=20, min_samples_leaf=10, n_estimators=900 .............\n",
      "[CV]  max_depth=20, min_samples_leaf=10, n_estimators=900, total= 1.2min\n",
      "[CV] max_depth=20, min_samples_leaf=10, n_estimators=900 .............\n",
      "[CV]  max_depth=20, min_samples_leaf=10, n_estimators=900, total= 1.1min\n",
      "[CV] max_depth=20, min_samples_leaf=10, n_estimators=900 .............\n",
      "[CV]  max_depth=20, min_samples_leaf=10, n_estimators=900, total= 1.1min\n",
      "[CV] max_depth=26, min_samples_leaf=7, n_estimators=800 ..............\n",
      "[CV]  max_depth=26, min_samples_leaf=7, n_estimators=800, total= 1.0min\n",
      "[CV] max_depth=26, min_samples_leaf=7, n_estimators=800 ..............\n",
      "[CV]  max_depth=26, min_samples_leaf=7, n_estimators=800, total= 1.0min\n",
      "[CV] max_depth=26, min_samples_leaf=7, n_estimators=800 ..............\n",
      "[CV]  max_depth=26, min_samples_leaf=7, n_estimators=800, total= 1.0min\n",
      "[CV] max_depth=26, min_samples_leaf=7, n_estimators=900 ..............\n",
      "[CV]  max_depth=26, min_samples_leaf=7, n_estimators=900, total= 1.2min\n",
      "[CV] max_depth=26, min_samples_leaf=7, n_estimators=900 ..............\n",
      "[CV]  max_depth=26, min_samples_leaf=7, n_estimators=900, total= 1.2min\n",
      "[CV] max_depth=26, min_samples_leaf=7, n_estimators=900 ..............\n",
      "[CV]  max_depth=26, min_samples_leaf=7, n_estimators=900, total= 1.2min\n",
      "[CV] max_depth=26, min_samples_leaf=10, n_estimators=800 .............\n",
      "[CV]  max_depth=26, min_samples_leaf=10, n_estimators=800, total= 1.0min\n",
      "[CV] max_depth=26, min_samples_leaf=10, n_estimators=800 .............\n",
      "[CV]  max_depth=26, min_samples_leaf=10, n_estimators=800, total= 1.0min\n",
      "[CV] max_depth=26, min_samples_leaf=10, n_estimators=800 .............\n",
      "[CV]  max_depth=26, min_samples_leaf=10, n_estimators=800, total= 1.0min\n",
      "[CV] max_depth=26, min_samples_leaf=10, n_estimators=900 .............\n",
      "[CV]  max_depth=26, min_samples_leaf=10, n_estimators=900, total= 1.1min\n",
      "[CV] max_depth=26, min_samples_leaf=10, n_estimators=900 .............\n",
      "[CV]  max_depth=26, min_samples_leaf=10, n_estimators=900, total= 1.1min\n",
      "[CV] max_depth=26, min_samples_leaf=10, n_estimators=900 .............\n",
      "[CV]  max_depth=26, min_samples_leaf=10, n_estimators=900, total= 1.1min\n"
     ]
    },
    {
     "name": "stderr",
     "output_type": "stream",
     "text": [
      "[Parallel(n_jobs=1)]: Using backend SequentialBackend with 1 concurrent workers.\n",
      "[Parallel(n_jobs=1)]: Done   1 out of   1 | elapsed:  1.0min remaining:    0.0s\n",
      "[Parallel(n_jobs=1)]: Done  24 out of  24 | elapsed: 26.2min finished\n"
     ]
    },
    {
     "data": {
      "text/plain": "GridSearchCV(cv=3, error_score='raise-deprecating',\n             estimator=RandomForestClassifier(bootstrap=True, class_weight=None,\n                                              criterion='gini', max_depth=None,\n                                              max_features='auto',\n                                              max_leaf_nodes=None,\n                                              min_impurity_decrease=0.0,\n                                              min_impurity_split=None,\n                                              min_samples_leaf=1,\n                                              min_samples_split=2,\n                                              min_weight_fraction_leaf=0.0,\n                                              n_estimators='warn', n_jobs=6,\n                                              oob_score=False, random_state=42,\n                                              verbose=False, warm_start=False),\n             iid='warn', n_jobs=None,\n             param_grid={'max_depth': [20, 26], 'min_samples_leaf': [7, 10],\n                         'n_estimators': [800, 900]},\n             pre_dispatch='2*n_jobs', refit=True, return_train_score=False,\n             scoring=None, verbose=2)"
     },
     "execution_count": 26,
     "metadata": {},
     "output_type": "execute_result"
    }
   ],
   "source": [
    "from sklearn.model_selection import GridSearchCV\n",
    "forest_param_grid = {\"n_estimators\":[800, 900], \"max_depth\":[20, 26], \"min_samples_leaf\":[7, 10]}\n",
    "search_rnd_forest = GridSearchCV(estimator=RandomForestClassifier(random_state=42, verbose=False, n_jobs=6), param_grid=forest_param_grid, cv=3, verbose=2)\n",
    "search_rnd_forest.fit(X_train_std, y_train)\n",
    "\n"
   ],
   "metadata": {
    "collapsed": false,
    "pycharm": {
     "name": "#%%\n"
    }
   }
  },
  {
   "cell_type": "code",
   "execution_count": 27,
   "outputs": [
    {
     "data": {
      "text/plain": "{'max_depth': 26, 'min_samples_leaf': 7, 'n_estimators': 800}"
     },
     "execution_count": 27,
     "metadata": {},
     "output_type": "execute_result"
    }
   ],
   "source": [
    "search_rnd_forest.best_params_"
   ],
   "metadata": {
    "collapsed": false,
    "pycharm": {
     "name": "#%%\n"
    }
   }
  },
  {
   "cell_type": "code",
   "execution_count": 28,
   "outputs": [
    {
     "data": {
      "text/plain": "0.95476"
     },
     "execution_count": 28,
     "metadata": {},
     "output_type": "execute_result"
    }
   ],
   "source": [
    "from sklearn.metrics import accuracy_score\n",
    "search_rnd_forest.best_score_\n",
    "\n",
    "\n"
   ],
   "metadata": {
    "collapsed": false,
    "pycharm": {
     "name": "#%%\n"
    }
   }
  },
  {
   "cell_type": "code",
   "execution_count": 30,
   "outputs": [
    {
     "data": {
      "text/plain": "0.9851"
     },
     "execution_count": 30,
     "metadata": {},
     "output_type": "execute_result"
    }
   ],
   "source": [
    "from sklearn.metrics import accuracy_score\n",
    "accuracy_score(y_train, search_rnd_forest.best_estimator_.predict(X_train_std))\n"
   ],
   "metadata": {
    "collapsed": false,
    "pycharm": {
     "name": "#%%\n"
    }
   }
  },
  {
   "cell_type": "code",
   "execution_count": 32,
   "outputs": [],
   "source": [
    "X_valid_std = scaler.transform(X_valid)"
   ],
   "metadata": {
    "collapsed": false,
    "pycharm": {
     "name": "#%%\n"
    }
   }
  },
  {
   "cell_type": "code",
   "execution_count": 33,
   "outputs": [],
   "source": [
    "from matplotlib.pyplot import imshow"
   ],
   "metadata": {
    "collapsed": false,
    "pycharm": {
     "name": "#%%\n"
    }
   }
  },
  {
   "cell_type": "code",
   "execution_count": 39,
   "outputs": [
    {
     "data": {
      "text/plain": "0.9668"
     },
     "execution_count": 39,
     "metadata": {},
     "output_type": "execute_result"
    },
    {
     "data": {
      "text/plain": "<Figure size 432x288 with 1 Axes>",
      "image/png": "[encoded data removed]"
     },
     "metadata": {
      "needs_background": "light"
     },
     "output_type": "display_data"
    }
   ],
   "source": [
    "imshow(X_valid_std[0].reshape(28,28), cmap='gray_r')\n",
    "\n",
    "accuracy_score(y_valid, search_rnd_forest.best_estimator_.predict(X_valid_std))"
   ],
   "metadata": {
    "collapsed": false,
    "pycharm": {
     "name": "#%%\n"
    }
   }
  },
  {
   "cell_type": "code",
   "execution_count": 40,
   "outputs": [
    {
     "data": {
      "text/plain": "['rnd_forest_best.xz']"
     },
     "execution_count": 40,
     "metadata": {},
     "output_type": "execute_result"
    }
   ],
   "source": [
    "joblib.dump(search_rnd_forest.best_estimator_, \"rnd_forest_best.xz\")"
   ],
   "metadata": {
    "collapsed": false,
    "pycharm": {
     "name": "#%%\n"
    }
   }
  },
  {
   "cell_type": "markdown",
   "source": [
    "- Extra tree"
   ],
   "metadata": {
    "collapsed": false,
    "pycharm": {
     "name": "#%%\nmd\n"
    }
   }
  },
  {
   "cell_type": "code",
   "execution_count": 41,
   "outputs": [],
   "source": [
    "from sklearn.ensemble import ExtraTreesClassifier"
   ],
   "metadata": {
    "collapsed": false,
    "pycharm": {
     "name": "#%%\n"
    }
   }
  },
  {
   "cell_type": "code",
   "execution_count": 43,
   "outputs": [
    {
     "name": "stdout",
     "output_type": "stream",
     "text": [
      "Fitting 3 folds for each of 8 candidates, totalling 24 fits\n",
      "[CV] max_depth=20, min_samples_leaf=7, n_estimators=800 ..............\n",
      "[CV]  max_depth=20, min_samples_leaf=7, n_estimators=800, total=  56.3s\n",
      "[CV] max_depth=20, min_samples_leaf=7, n_estimators=800 ..............\n",
      "[CV]  max_depth=20, min_samples_leaf=7, n_estimators=800, total=  54.3s\n",
      "[CV] max_depth=20, min_samples_leaf=7, n_estimators=800 ..............\n",
      "[CV]  max_depth=20, min_samples_leaf=7, n_estimators=800, total=  54.8s\n",
      "[CV] max_depth=20, min_samples_leaf=7, n_estimators=900 ..............\n",
      "[CV]  max_depth=20, min_samples_leaf=7, n_estimators=900, total= 1.0min\n",
      "[CV] max_depth=20, min_samples_leaf=7, n_estimators=900 ..............\n",
      "[CV]  max_depth=20, min_samples_leaf=7, n_estimators=900, total= 1.0min\n",
      "[CV] max_depth=20, min_samples_leaf=7, n_estimators=900 ..............\n",
      "[CV]  max_depth=20, min_samples_leaf=7, n_estimators=900, total= 1.0min\n",
      "[CV] max_depth=20, min_samples_leaf=10, n_estimators=800 .............\n",
      "[CV]  max_depth=20, min_samples_leaf=10, n_estimators=800, total=  55.5s\n",
      "[CV] max_depth=20, min_samples_leaf=10, n_estimators=800 .............\n",
      "[CV]  max_depth=20, min_samples_leaf=10, n_estimators=800, total=  55.4s\n",
      "[CV] max_depth=20, min_samples_leaf=10, n_estimators=800 .............\n",
      "[CV]  max_depth=20, min_samples_leaf=10, n_estimators=800, total=  58.0s\n",
      "[CV] max_depth=20, min_samples_leaf=10, n_estimators=900 .............\n",
      "[CV]  max_depth=20, min_samples_leaf=10, n_estimators=900, total= 1.1min\n",
      "[CV] max_depth=20, min_samples_leaf=10, n_estimators=900 .............\n",
      "[CV]  max_depth=20, min_samples_leaf=10, n_estimators=900, total= 1.1min\n",
      "[CV] max_depth=20, min_samples_leaf=10, n_estimators=900 .............\n",
      "[CV]  max_depth=20, min_samples_leaf=10, n_estimators=900, total= 1.0min\n",
      "[CV] max_depth=25, min_samples_leaf=7, n_estimators=800 ..............\n",
      "[CV]  max_depth=25, min_samples_leaf=7, n_estimators=800, total=  55.5s\n",
      "[CV] max_depth=25, min_samples_leaf=7, n_estimators=800 ..............\n",
      "[CV]  max_depth=25, min_samples_leaf=7, n_estimators=800, total= 1.1min\n",
      "[CV] max_depth=25, min_samples_leaf=7, n_estimators=800 ..............\n",
      "[CV]  max_depth=25, min_samples_leaf=7, n_estimators=800, total=  56.5s\n",
      "[CV] max_depth=25, min_samples_leaf=7, n_estimators=900 ..............\n",
      "[CV]  max_depth=25, min_samples_leaf=7, n_estimators=900, total= 1.2min\n",
      "[CV] max_depth=25, min_samples_leaf=7, n_estimators=900 ..............\n",
      "[CV]  max_depth=25, min_samples_leaf=7, n_estimators=900, total= 1.2min\n",
      "[CV] max_depth=25, min_samples_leaf=7, n_estimators=900 ..............\n",
      "[CV]  max_depth=25, min_samples_leaf=7, n_estimators=900, total= 1.2min\n",
      "[CV] max_depth=25, min_samples_leaf=10, n_estimators=800 .............\n",
      "[CV]  max_depth=25, min_samples_leaf=10, n_estimators=800, total=  59.9s\n",
      "[CV] max_depth=25, min_samples_leaf=10, n_estimators=800 .............\n",
      "[CV]  max_depth=25, min_samples_leaf=10, n_estimators=800, total= 1.0min\n",
      "[CV] max_depth=25, min_samples_leaf=10, n_estimators=800 .............\n",
      "[CV]  max_depth=25, min_samples_leaf=10, n_estimators=800, total= 1.0min\n",
      "[CV] max_depth=25, min_samples_leaf=10, n_estimators=900 .............\n",
      "[CV]  max_depth=25, min_samples_leaf=10, n_estimators=900, total= 1.2min\n",
      "[CV] max_depth=25, min_samples_leaf=10, n_estimators=900 .............\n",
      "[CV]  max_depth=25, min_samples_leaf=10, n_estimators=900, total= 1.2min\n",
      "[CV] max_depth=25, min_samples_leaf=10, n_estimators=900 .............\n",
      "[CV]  max_depth=25, min_samples_leaf=10, n_estimators=900, total= 1.2min\n"
     ]
    },
    {
     "name": "stderr",
     "output_type": "stream",
     "text": [
      "[Parallel(n_jobs=1)]: Using backend SequentialBackend with 1 concurrent workers.\n",
      "[Parallel(n_jobs=1)]: Done   1 out of   1 | elapsed:   56.3s remaining:    0.0s\n",
      "[Parallel(n_jobs=1)]: Done  24 out of  24 | elapsed: 24.9min finished\n"
     ]
    },
    {
     "data": {
      "text/plain": "GridSearchCV(cv=3, error_score='raise-deprecating',\n             estimator=ExtraTreesClassifier(bootstrap=False, class_weight=None,\n                                            criterion='gini', max_depth=None,\n                                            max_features='auto',\n                                            max_leaf_nodes=None,\n                                            min_impurity_decrease=0.0,\n                                            min_impurity_split=None,\n                                            min_samples_leaf=1,\n                                            min_samples_split=2,\n                                            min_weight_fraction_leaf=0.0,\n                                            n_estimators='warn', n_jobs=6,\n                                            oob_score=False, random_state=42,\n                                            verbose=0, warm_start=False),\n             iid='warn', n_jobs=None,\n             param_grid={'max_depth': [20, 25], 'min_samples_leaf': [7, 10],\n                         'n_estimators': [800, 900]},\n             pre_dispatch='2*n_jobs', refit=True, return_train_score=False,\n             scoring=None, verbose=2)"
     },
     "execution_count": 43,
     "metadata": {},
     "output_type": "execute_result"
    }
   ],
   "source": [
    "extra_tree_param = {\"n_estimators\":[800, 900], \"max_depth\":[20, 25], \"min_samples_leaf\":[7, 10]}\n",
    "extra_tree_search = GridSearchCV(estimator=ExtraTreesClassifier(random_state=42, n_jobs=6), param_grid=extra_tree_param, cv=3, verbose=2)\n",
    "extra_tree_search.fit(X_train_std, y_train)"
   ],
   "metadata": {
    "collapsed": false,
    "pycharm": {
     "name": "#%%\n"
    }
   }
  },
  {
   "cell_type": "code",
   "execution_count": 46,
   "outputs": [
    {
     "data": {
      "text/plain": "0.98622"
     },
     "execution_count": 46,
     "metadata": {},
     "output_type": "execute_result"
    }
   ],
   "source": [
    "accuracy_score(y_train, extra_tree_search.best_estimator_.predict(X_train_std))"
   ],
   "metadata": {
    "collapsed": false,
    "pycharm": {
     "name": "#%%\n"
    }
   }
  },
  {
   "cell_type": "code",
   "execution_count": 47,
   "outputs": [
    {
     "data": {
      "text/plain": "0.9647"
     },
     "execution_count": 47,
     "metadata": {},
     "output_type": "execute_result"
    }
   ],
   "source": [
    "accuracy_score(y_valid, extra_tree_search.best_estimator_.predict(X_valid_std))"
   ],
   "metadata": {
    "collapsed": false,
    "pycharm": {
     "name": "#%%\n"
    }
   }
  },
  {
   "cell_type": "code",
   "execution_count": 48,
   "outputs": [
    {
     "data": {
      "text/plain": "['extra_tree_best.xz']"
     },
     "execution_count": 48,
     "metadata": {},
     "output_type": "execute_result"
    }
   ],
   "source": [
    "joblib.dump(extra_tree_search.best_estimator_, \"extra_tree_best.xz\")"
   ],
   "metadata": {
    "collapsed": false,
    "pycharm": {
     "name": "#%%\n"
    }
   }
  },
  {
   "cell_type": "markdown",
   "source": [
    "- Voting"
   ],
   "metadata": {
    "collapsed": false,
    "pycharm": {
     "name": "#%%\nmd\n"
    }
   }
  },
  {
   "cell_type": "code",
   "execution_count": 49,
   "outputs": [],
   "source": [
    "from sklearn.ensemble import VotingClassifier"
   ],
   "metadata": {
    "collapsed": false,
    "pycharm": {
     "name": "#%%\n"
    }
   }
  },
  {
   "cell_type": "code",
   "execution_count": 50,
   "outputs": [
    {
     "data": {
      "text/plain": "VotingClassifier(estimators=[('smv',\n                              SVC(C=5, cache_size=200, class_weight=None,\n                                  coef0=0.0, decision_function_shape='ovr',\n                                  degree=3, gamma='scale', kernel='rbf',\n                                  max_iter=-1, probability=True,\n                                  random_state=42, shrinking=True, tol=0.001,\n                                  verbose=True)),\n                             ('forest',\n                              RandomForestClassifier(bootstrap=True,\n                                                     class_weight=None,\n                                                     criterion='gini',\n                                                     max_depth=26,\n                                                     max_features='au...\n                                                   class_weight=None,\n                                                   criterion='gini',\n                                                   max_depth=20,\n                                                   max_features='auto',\n                                                   max_leaf_nodes=None,\n                                                   min_impurity_decrease=0.0,\n                                                   min_impurity_split=None,\n                                                   min_samples_leaf=7,\n                                                   min_samples_split=2,\n                                                   min_weight_fraction_leaf=0.0,\n                                                   n_estimators=800, n_jobs=6,\n                                                   oob_score=False,\n                                                   random_state=42, verbose=0,\n                                                   warm_start=False))],\n                 flatten_transform=True, n_jobs=3, voting='soft', weights=None)"
     },
     "execution_count": 50,
     "metadata": {},
     "output_type": "execute_result"
    }
   ],
   "source": [
    "voting_soft = VotingClassifier(estimators=[('smv', best_svc), ('forest', search_rnd_forest.best_estimator_), ('extra',extra_tree_search.best_estimator_)],\n",
    "                               n_jobs=3, voting='soft')\n",
    "voting_soft.fit(X_train_std, y_train)"
   ],
   "metadata": {
    "collapsed": false,
    "pycharm": {
     "name": "#%%\n"
    }
   }
  },
  {
   "cell_type": "code",
   "execution_count": 51,
   "outputs": [
    {
     "data": {
      "text/plain": "0.9974"
     },
     "execution_count": 51,
     "metadata": {},
     "output_type": "execute_result"
    }
   ],
   "source": [
    "accuracy_score(y_train, voting_soft.predict(X_train_std))"
   ],
   "metadata": {
    "collapsed": false,
    "pycharm": {
     "name": "#%%\n"
    }
   }
  },
  {
   "cell_type": "code",
   "execution_count": 52,
   "outputs": [
    {
     "data": {
      "text/plain": "0.9809"
     },
     "execution_count": 52,
     "metadata": {},
     "output_type": "execute_result"
    }
   ],
   "source": [
    "accuracy_score(y_valid, voting_soft.predict(X_valid_std))"
   ],
   "metadata": {
    "collapsed": false,
    "pycharm": {
     "name": "#%%\n"
    }
   }
  },
  {
   "cell_type": "markdown",
   "source": [
    "goood"
   ],
   "metadata": {
    "collapsed": false,
    "pycharm": {
     "name": "#%%\nmd\n"
    }
   }
  },
  {
   "cell_type": "code",
   "execution_count": 54,
   "outputs": [],
   "source": [
    "X_train_valid = X[:60000]\n",
    "y_train_valid = y[:60000]\n",
    "X_train_valid_std = scaler.fit_transform(X_train_valid)\n"
   ],
   "metadata": {
    "collapsed": false,
    "pycharm": {
     "name": "#%%\n"
    }
   }
  },
  {
   "cell_type": "code",
   "execution_count": 55,
   "outputs": [
    {
     "data": {
      "text/plain": "VotingClassifier(estimators=[('smv',\n                              SVC(C=5, cache_size=200, class_weight=None,\n                                  coef0=0.0, decision_function_shape='ovr',\n                                  degree=3, gamma='scale', kernel='rbf',\n                                  max_iter=-1, probability=True,\n                                  random_state=42, shrinking=True, tol=0.001,\n                                  verbose=True)),\n                             ('forest',\n                              RandomForestClassifier(bootstrap=True,\n                                                     class_weight=None,\n                                                     criterion='gini',\n                                                     max_depth=26,\n                                                     max_features='au...\n                                                   class_weight=None,\n                                                   criterion='gini',\n                                                   max_depth=20,\n                                                   max_features='auto',\n                                                   max_leaf_nodes=None,\n                                                   min_impurity_decrease=0.0,\n                                                   min_impurity_split=None,\n                                                   min_samples_leaf=7,\n                                                   min_samples_split=2,\n                                                   min_weight_fraction_leaf=0.0,\n                                                   n_estimators=800, n_jobs=6,\n                                                   oob_score=False,\n                                                   random_state=42, verbose=0,\n                                                   warm_start=False))],\n                 flatten_transform=True, n_jobs=3, voting='soft', weights=None)"
     },
     "execution_count": 55,
     "metadata": {},
     "output_type": "execute_result"
    }
   ],
   "source": [
    "voting_soft.fit(X_train_valid_std, y_train_valid)"
   ],
   "metadata": {
    "collapsed": false,
    "pycharm": {
     "name": "#%%\n"
    }
   }
  },
  {
   "cell_type": "code",
   "execution_count": 57,
   "outputs": [
    {
     "data": {
      "text/plain": "0.9972166666666666"
     },
     "execution_count": 57,
     "metadata": {},
     "output_type": "execute_result"
    }
   ],
   "source": [
    "accuracy_score(y_train_valid,voting_soft.predict(X_train_valid_std))"
   ],
   "metadata": {
    "collapsed": false,
    "pycharm": {
     "name": "#%%\n"
    }
   }
  },
  {
   "cell_type": "code",
   "execution_count": 58,
   "outputs": [],
   "source": [
    "X_test_std = scaler.transform(X_test)\n",
    "test_preds_voting_soft = voting_soft.predict(X_test_std)"
   ],
   "metadata": {
    "collapsed": false,
    "pycharm": {
     "name": "#%%\n"
    }
   }
  },
  {
   "cell_type": "code",
   "execution_count": 59,
   "outputs": [
    {
     "data": {
      "text/plain": "0.9786"
     },
     "execution_count": 59,
     "metadata": {},
     "output_type": "execute_result"
    }
   ],
   "source": [
    "accuracy_score(y_test, test_preds_voting_soft)"
   ],
   "metadata": {
    "collapsed": false,
    "pycharm": {
     "name": "#%%\n"
    }
   }
  }
 ],
 "metadata": {
  "kernelspec": {
   "display_name": "Python 3",
   "language": "python",
   "name": "python3"
  },
  "language_info": {
   "codemirror_mode": {
    "name": "ipython",
    "version": 2
   },
   "file_extension": ".py",
   "mimetype": "text/x-python",
   "name": "python",
   "nbconvert_exporter": "python",
   "pygments_lexer": "ipython2",
   "version": "2.7.6"
  }
 },
 "nbformat": 4,
 "nbformat_minor": 0
}